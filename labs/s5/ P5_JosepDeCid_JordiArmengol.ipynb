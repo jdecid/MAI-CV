{
 "cells": [
  {
   "cell_type": "markdown",
   "metadata": {},
   "source": [
    "# P5 Computational Vision\n",
    "\n",
    "**Important:** Read the file `README.md` before start coding."
   ]
  },
  {
   "cell_type": "markdown",
   "metadata": {},
   "source": [
    "<div class = \"alert alert-info\" style = \"border-radius:10px;border-width:3px;border-color:darkblue;font-family:Verdana,sans-serif;font-size:16px;\">\n",
    "    \n",
    "**Delivery**\n",
    "<ol>\n",
    "\n",
    "Requirements to fulfill:\n",
    "<ul>\n",
    "    <li>  Answer the questions introduced in the exercises.\n",
    "    <li>  The implemented code should be,<br>\n",
    "        - free of errors (Run All before delivery and check for possible errors)<br>\n",
    "        - optimized ( e.g. do not use 'for' instruction when indexing numpy arrays)<br>\n",
    "        - readable  ( e.g. avoiding the implementation of more than 2 loops within a line)<br>\n",
    "        - commented and with descriptions      \n",
    "    <li> The deliverable must be a file named **P4_Student1_Student2.zip** that includes:\n",
    "    <ul>\n",
    "        <li> The notebook P4_Student1_Student2.ipynb completed with the solutions to the exercises and their corresponding comments.\n",
    "         <li> All the images used in this notebook.\n",
    "    </ul>\n",
    "\n",
    "</ul>\n",
    "\n",
    " **Deadline (Campus Virtual): November 11th, 23:00 h** \n",
    "\n",
    "\n",
    "</ol>\n",
    "</div>"
   ]
  },
  {
   "cell_type": "markdown",
   "metadata": {},
   "source": [
    "## Face detection\n",
    "\n",
    "The main topics of this notebook:\n",
    "\n",
    "- Integral images and a classical use for fast haar-like feature computation.\n",
    "- Viola & Jones face detection method applied in a video.\n",
    "\n"
   ]
  },
  {
   "cell_type": "code",
   "execution_count": 1,
   "metadata": {},
   "outputs": [],
   "source": [
    "import numpy as np\n",
    "from skimage import io\n",
    "import os\n",
    "from glob import glob\n",
    "import matplotlib\n",
    "from PIL import Image\n",
    "from multiprocessing import Pool\n",
    "from functools import partial\n",
    "import time\n",
    "import timeit\n",
    "from matplotlib import pyplot as plt\n",
    "\n",
    "%matplotlib inline"
   ]
  },
  {
   "cell_type": "markdown",
   "metadata": {},
   "source": [
    "**Exercise 1:**\n",
    "\n",
    "1) Build a function `compute_integral_image` that computes the integral image of an input (2D) array.\n",
    "\n",
    "\n",
    "In an integral image each pixel is the sum of all pixels in the original image that are 'left and above' the pixel. See the following example:\n",
    "\n",
    "```python\n",
    "Original    Integral\n",
    "+--------   +------------\n",
    "| 1 2 3 .   | 0  0  0  0 .\n",
    "| 4 5 6 .   | 0  1  3  6 .\n",
    "| . . . .   | 0  5 12 21 .\n",
    "            | . . . . . .\n",
    "\n",
    "```\n",
    "The integral image must have an additional row and column full of zeros (first row and first column).\n",
    "\n",
    "```python\n",
    " def compute_integral_image(img_arr):\n",
    "    row_sum = np.zeros(img_arr.shape)\n",
    "    integral_image_arr = np.zeros((img_arr.shape[0] + 1, img_arr.shape[1] + 1))\n",
    "    # Add code here\n",
    "    \n",
    "    return integral_image_arr\n",
    "```\n",
    "\n",
    "\n",
    "2) Make sure that the values of the integral image are correct.\n",
    "\n",
    "\n",
    "3) Plot the output of the integral image for the following array:\n",
    "\n",
    "```\n",
    "img_array = np.array([[1,2,2,2,1],[1,2,2,2,1],[1,2,2,2,1],[1,2,2,2,1]])\n",
    "```\n"
   ]
  },
  {
   "cell_type": "code",
   "execution_count": 2,
   "metadata": {},
   "outputs": [
    {
     "data": {
      "image/png": "[encoded data removed]",
      "text/plain": [
       "<Figure size 432x288 with 1 Axes>"
      ]
     },
     "metadata": {
      "needs_background": "light"
     },
     "output_type": "display_data"
    }
   ],
   "source": [
    "img_array = np.array([\n",
    "    [1, 2, 2, 2, 1],\n",
    "    [1, 2, 2, 2, 1],\n",
    "    [1, 2, 2, 2, 1],\n",
    "    [1, 2, 2, 2, 1]\n",
    "])\n",
    "\n",
    "plt.imshow(img_array, cmap='gray', vmin=0, vmax=5)\n",
    "plt.title('Array image')\n",
    "plt.axis('off')\n",
    "plt.show()"
   ]
  },
  {
   "cell_type": "code",
   "execution_count": 3,
   "metadata": {},
   "outputs": [],
   "source": [
    "def compute_integral_image(img_arr: np.ndarray) -> np.ndarray:\n",
    "    \"\"\"\n",
    "    Calculates the integral image based on this instance's original image data.\n",
    "    :param img_arr: Image source data\n",
    "    :return Integral image of \"img_arr\"\n",
    "    \"\"\"\n",
    "    # an index of -1 refers to the last row/column\n",
    "    # since row_sum is calculated starting from (0,0),\n",
    "    # rowSum(x, -1) == 0 holds for all x\n",
    "    row_sum = np.zeros(img_arr.shape)\n",
    "    # we need an additional column and row\n",
    "    integral_image_arr = np.zeros((img_arr.shape[0] + 1, img_arr.shape[1] + 1))\n",
    "    \n",
    "    # Add code here\n",
    "    integral_image_arr[1:, 1:] = np.cumsum(np.cumsum(img_arr, axis=0), axis=1)\n",
    "\n",
    "    return integral_image_arr"
   ]
  },
  {
   "cell_type": "code",
   "execution_count": 4,
   "metadata": {},
   "outputs": [
    {
     "data": {
      "image/png": "[encoded data removed]",
      "text/plain": [
       "<Figure size 432x288 with 1 Axes>"
      ]
     },
     "metadata": {
      "needs_background": "light"
     },
     "output_type": "display_data"
    }
   ],
   "source": [
    "ii_img_array = compute_integral_image(img_array)\n",
    "\n",
    "plt.imshow(ii_img_array, cmap='gray', vmin=0, vmax= 5)\n",
    "plt.title('Integral image of Array image')\n",
    "plt.axis('off')\n",
    "plt.show()"
   ]
  },
  {
   "cell_type": "markdown",
   "metadata": {},
   "source": [
    "**Exercise 2:**\n",
    "\n",
    "1) Create a function `sum_region` to compute the  sum of the pixel intensities within a  rectangle using the integral image. \n",
    "\n",
    "The rectangle will be defined using the top left (x, y) and bottom right (x, y) coordinates.\n",
    "\n",
    "Make the function with the following header:\n",
    "```\n",
    "def sum_region(integral_img_arr, top_left, bottom_right):\n",
    "```\n",
    "\n",
    "2) You can make the following tests:\n",
    " \n",
    " - `sum(img_array) == ii_img_array[-1,-1]`\n",
    " - `img_array[0,:].sum() == ii_img_array[1,-1]`\n",
    " "
   ]
  },
  {
   "cell_type": "code",
   "execution_count": 5,
   "metadata": {},
   "outputs": [],
   "source": [
    "assert(img_array.sum() == ii_img_array[-1, -1])\n",
    "assert(img_array[0, :].sum() == ii_img_array[1, -1])"
   ]
  },
  {
   "cell_type": "code",
   "execution_count": 6,
   "metadata": {},
   "outputs": [],
   "source": [
    "def sum_region(integral_img_arr, tl, br):\n",
    "    tr = (tl[0], br[1])\n",
    "    bl = (br[0], tl[1])\n",
    "    \n",
    "    return integral_img_arr[tl] + integral_img_arr[br] - (integral_img_arr[tr] + integral_img_arr[bl])"
   ]
  },
  {
   "cell_type": "code",
   "execution_count": 7,
   "metadata": {},
   "outputs": [
    {
     "data": {
      "text/plain": [
       "12.0"
      ]
     },
     "execution_count": 7,
     "metadata": {},
     "output_type": "execute_result"
    }
   ],
   "source": [
    "# result you should get (12)\n",
    "sum_region(ii_img_array, tl=(1, 1), br=(3, 4))"
   ]
  },
  {
   "cell_type": "code",
   "execution_count": 8,
   "metadata": {},
   "outputs": [
    {
     "data": {
      "text/plain": [
       "32.0"
      ]
     },
     "execution_count": 8,
     "metadata": {},
     "output_type": "execute_result"
    }
   ],
   "source": [
    "# result you should get (32)\n",
    "sum_region(ii_img_array, tl=(0, 0), br=(-1, -1))"
   ]
  },
  {
   "cell_type": "markdown",
   "metadata": {
    "collapsed": true
   },
   "source": [
    "**Exercise 3:**\n",
    "\n",
    "Compute the integral image for a set of images.\n",
    "    \n",
    "To do so build a function `load_integral_images` to read all the images inside a given folder and compute the integral image of every image:\n",
    "\n",
    "```python\n",
    "def load_integral_images(path):\n",
    "    images = []\n",
    "    for _file in os.listdir(path):\n",
    "       #### Complte here:\n",
    "       #### Read image\n",
    "       #### Remember to scale the image (with the max pixel intensity value)\n",
    "     \n",
    "    return ii_images\n",
    " ```"
   ]
  },
  {
   "cell_type": "code",
   "execution_count": 9,
   "metadata": {},
   "outputs": [],
   "source": [
    "pos_training_path = 'trainingdata/faces'\n",
    "neg_training_path = 'trainingdata/nonfaces'\n",
    "pos_testing_path =  'trainingdata/faces/test'\n",
    "neg_testing_path =  'trainingdata/nonfaces/test'"
   ]
  },
  {
   "cell_type": "code",
   "execution_count": 10,
   "metadata": {
    "scrolled": true
   },
   "outputs": [],
   "source": [
    "def load_integral_images(path):\n",
    "    \"\"\"Read each file in the folder, calculate its integral image and normalize the image.\"\"\"\n",
    "    ii_images = []\n",
    "    \n",
    "    for file_path in glob(f'{path}/*.png'):\n",
    "        img = io.imread(file_path)\n",
    "        \n",
    "        i_img = compute_integral_image(img)\n",
    "        \n",
    "        # Some images maximum are 0 (we avoid division by 0)\n",
    "        img_max = i_img.max()\n",
    "        if (img_max != 0):\n",
    "            ii_images.append(i_img / img_max)\n",
    "    \n",
    "    return ii_images"
   ]
  },
  {
   "cell_type": "code",
   "execution_count": 11,
   "metadata": {},
   "outputs": [],
   "source": [
    "ii_pos_training = load_integral_images(pos_training_path)\n",
    "ii_pos_testing = load_integral_images(pos_testing_path)\n",
    "ii_neg_training = load_integral_images(neg_training_path)\n",
    "ii_neg_testing = load_integral_images(neg_testing_path)"
   ]
  },
  {
   "cell_type": "markdown",
   "metadata": {
    "collapsed": true
   },
   "source": [
    "**Exercise 4:** \n",
    "\n",
    "Compute the Haar features of an image\n",
    "\n",
    "We provide you with `HaarLikeFeature` class that has build in a `get_score` function and a `get_vote` function.\n",
    "\n",
    "Your job is to complete the code of the method `_create_features` in the class `HaarLikeFeature`:\n",
    "\n",
    "```python\n",
    "def _create_features(img_height, img_width, min_feature_width, max_feature_width, min_feature_height, max_feature_height):\n",
    "    print('Creating Haar-like features..')\n",
    "    t0 = time.time()\n",
    "    features = []\n",
    "    for feature in FeatureTypes:\n",
    "        # FeatureTypes are just tuples\n",
    "        feature_start_width = max(min_feature_width, feature[0])\n",
    "        for feature_width in range(feature_start_width, max_feature_width, feature[0]):\n",
    "            feature_start_height = max(min_feature_height, feature[1])\n",
    "            for feature_height in range(feature_start_height, max_feature_height, feature[1]):\n",
    "                # Loop over possible x values and y values \n",
    "                # - For each (x,y) create the HarrLikeFeature objects.\n",
    "                # - append the HaarlikeFeatures in the features list.\n",
    "                # Notice that Haarlike features contain polarity, append features for polarity 1 and -1\n",
    "                # The threshold can be set to 0 for all of them.\n",
    "                \n",
    "                \n",
    "    print('\\t' + str(len(features)) + ' features created.')\n",
    "    print('\\tTime needed for calculating Harr-like features:', time.time()-t0)\n",
    "    return features\n",
    "```"
   ]
  },
  {
   "cell_type": "code",
   "execution_count": 12,
   "metadata": {},
   "outputs": [],
   "source": [
    "def enum(**enums):\n",
    "    return type('Enum', (), enums)\n",
    "\n",
    "FeatureType = enum(TWO_VERTICAL=(1, 2), TWO_HORIZONTAL=(2, 1), THREE_HORIZONTAL=(3, 1), THREE_VERTICAL=(1, 3), FOUR=(2, 2))\n",
    "FeatureTypes = [FeatureType.TWO_VERTICAL, FeatureType.TWO_HORIZONTAL, FeatureType.THREE_VERTICAL, FeatureType.THREE_HORIZONTAL, FeatureType.FOUR]\n",
    "\n",
    "class HaarLikeFeature(object):\n",
    "    \"\"\"\n",
    "    Class representing a haar-like feature.\n",
    "    \"\"\"\n",
    "\n",
    "    def __init__(self, feature_type, position, width, height, threshold, polarity):\n",
    "        \"\"\"\n",
    "        Creates a new haar-like feature.\n",
    "        :param feature_type: Type of new feature, see FeatureType enum\n",
    "        :type feature_type: HaarLikeFeature.FeatureTypes\n",
    "        :param position: Top left corner where the feature begins (x, y)\n",
    "        :type position: (int, int)\n",
    "        :param width: Width of the feature\n",
    "        :type width: int\n",
    "        :param height: Height of the feature\n",
    "        :type height: int\n",
    "        :param threshold: Feature threshold\n",
    "        :type threshold: float\n",
    "        :param polarity: polarity of the feature -1 or 1\n",
    "        :type polarity: int\n",
    "        \"\"\"\n",
    "        self.type = feature_type\n",
    "        self.top_left = position\n",
    "        self.bottom_right = (position[0] + width, position[1] + height)\n",
    "        self.width = width\n",
    "        self.height = height\n",
    "        self.threshold = threshold\n",
    "        self.polarity = polarity\n",
    "        self.weight = 1\n",
    "    \n",
    "    def get_score(self, int_img):\n",
    "        \"\"\"\n",
    "        Get score for given integral image array.\n",
    "        :param int_img: Integral image array\n",
    "        :type int_img: numpy.ndarray\n",
    "        \n",
    "        :return: Score for given feature\n",
    "        :rtype: float\n",
    "        \"\"\"\n",
    "        score = 0\n",
    "        if self.type == FeatureType.TWO_VERTICAL:\n",
    "            first = sum_region(int_img, self.top_left, (self.top_left[0] + self.width, int(self.top_left[1] + self.height / 2)))\n",
    "            second = sum_region(int_img, (self.top_left[0], int(self.top_left[1] + self.height / 2)), self.bottom_right)\n",
    "            score = first - second\n",
    "        elif self.type == FeatureType.TWO_HORIZONTAL:\n",
    "            first = sum_region(int_img, self.top_left, (int(self.top_left[0] + self.width / 2), self.top_left[1] + self.height))\n",
    "            second = sum_region(int_img, (int(self.top_left[0] + self.width / 2), self.top_left[1]), self.bottom_right)\n",
    "            score = first - second\n",
    "        elif self.type == FeatureType.THREE_HORIZONTAL:\n",
    "            first = sum_region(int_img, self.top_left, (int(self.top_left[0] + self.width / 3), self.top_left[1] + self.height))\n",
    "            second = sum_region(int_img, (int(self.top_left[0] + self.width / 3), self.top_left[1]), (int(self.top_left[0] + 2 * self.width / 3), self.top_left[1] + self.height))\n",
    "            third = sum_region(int_img, (int(self.top_left[0] + 2 * self.width / 3), self.top_left[1]), self.bottom_right)\n",
    "            score = first - second + third\n",
    "        elif self.type == FeatureType.THREE_VERTICAL:\n",
    "            first = sum_region(int_img, self.top_left, (self.bottom_right[0], int(self.top_left[1] + self.height / 3)))\n",
    "            second = sum_region(int_img, (self.top_left[0], int(self.top_left[1] + self.height / 3)), (self.bottom_right[0], int(self.top_left[1] + 2 * self.height / 3)))\n",
    "            third = sum_region(int_img, (self.top_left[0], int(self.top_left[1] + 2 * self.height / 3)), self.bottom_right)\n",
    "            score = first - second + third\n",
    "        elif self.type == FeatureType.FOUR:\n",
    "            # top left area\n",
    "            first = sum_region(int_img, self.top_left, (int(self.top_left[0] + self.width / 2), int(self.top_left[1] + self.height / 2)))\n",
    "            # top right area\n",
    "            second = sum_region(int_img, (int(self.top_left[0] + self.width / 2), self.top_left[1]), (self.bottom_right[0], int(self.top_left[1] + self.height / 2)))\n",
    "            # bottom left area\n",
    "            third = sum_region(int_img, (self.top_left[0], int(self.top_left[1] + self.height / 2)), (int(self.top_left[0] + self.width / 2), self.bottom_right[1]))\n",
    "            # bottom right area\n",
    "            fourth = sum_region(int_img, (int(self.top_left[0] + self.width / 2), int(self.top_left[1] + self.height / 2)), self.bottom_right)\n",
    "            score = first - second - third + fourth\n",
    "        return score\n",
    "    \n",
    "    def get_vote(self, int_img):\n",
    "        \"\"\"\n",
    "        Get vote of this feature for given integral image.\n",
    "        :param int_img: Integral image array\n",
    "        :type int_img: numpy.ndarray\n",
    "        \n",
    "        :return: 1 iff this feature votes positively, otherwise -1\n",
    "        :rtype: int\n",
    "        \"\"\"\n",
    "        score = self.get_score(int_img)\n",
    "        return self.weight * (1 if score < self.polarity * self.threshold else -1)"
   ]
  },
  {
   "cell_type": "code",
   "execution_count": 42,
   "metadata": {},
   "outputs": [],
   "source": [
    "\n",
    "def learn(positive_iis, negative_iis, num_classifiers=-1, min_feature_width=1, max_feature_width=-1, min_feature_height=1, max_feature_height=-1):\n",
    "    \"\"\"\n",
    "    Selects a set of classifiers. Iteratively takes the best classifiers based\n",
    "    on a weighted error.\n",
    "    :param positive_iis: List of positive integral image examples\n",
    "    :type positive_iis: list[numpy.ndarray]\n",
    "    :param negative_iis: List of negative integral image examples\n",
    "    :type negative_iis: list[numpy.ndarray]\n",
    "    :param num_classifiers: Number of classifiers to select, -1 will use all\n",
    "    classifiers\n",
    "    :type num_classifiers: int\n",
    "    \n",
    "    :return: List of selected features\n",
    "    :rtype: list[HaarLikeFeature.HaarLikeFeature]\n",
    "    \"\"\"\n",
    "    num_pos = len(positive_iis)\n",
    "    num_neg = len(negative_iis)\n",
    "    num_imgs = num_pos + num_neg\n",
    "    img_height, img_width = positive_iis[0].shape\n",
    "\n",
    "    # Maximum feature width and height default to image width and height\n",
    "    max_feature_height = img_height if max_feature_height == -1 else max_feature_height\n",
    "    max_feature_width = img_width if max_feature_width == -1 else max_feature_width\n",
    "\n",
    "    # Create initial weights and labels\n",
    "    pos_weights = np.ones(num_pos) * 1. / (2 * num_pos)\n",
    "    neg_weights = np.ones(num_neg) * 1. / (2 * num_neg)\n",
    "    weights = np.hstack((pos_weights, neg_weights))\n",
    "    labels = np.hstack((np.ones(num_pos), np.ones(num_neg) * -1)) \n",
    "\n",
    "    images = positive_iis + negative_iis\n",
    "\n",
    "    # Create features for all sizes and locations\n",
    "    features = _create_features(img_height, img_width, min_feature_width, max_feature_width, min_feature_height, max_feature_height)\n",
    "    num_features = len(features)\n",
    "    feature_indexes = list(range(num_features))\n",
    "\n",
    "    num_classifiers = num_features if num_classifiers == -1 else num_classifiers\n",
    "\n",
    "    print('Calculating scores for images..')\n",
    "    t0 = time.time()\n",
    "    votes = np.zeros((num_imgs, num_features))\n",
    "    # Use as many workers as there are CPUs\n",
    "    pool = Pool(processes=8)\n",
    "    for i in range(num_imgs):\n",
    "        votes[i, :] = np.array(list(pool.map(partial(_get_feature_vote, image=images[i]), features)))\n",
    "\n",
    "    \n",
    "    print('\\tTime needed for calculating scores:', time.time()-t0)\n",
    "    \n",
    "    # select classifiers\n",
    "    classifiers = []\n",
    "\n",
    "    t0 = time.time()\n",
    "    print('Selecting classifiers..')\n",
    "    for _ in range(num_classifiers):\n",
    "\n",
    "        classification_errors = np.zeros(len(feature_indexes))\n",
    "\n",
    "        # normalize weights\n",
    "        weights *= 1. / np.sum(weights)\n",
    "\n",
    "        # select best classifier based on the weighted error\n",
    "        for f in range(len(feature_indexes)):\n",
    "            f_idx = feature_indexes[f]\n",
    "            # classifier error is the sum of image weights where the classifier\n",
    "            # is right\n",
    "            error = sum(map(lambda img_idx: weights[img_idx] if labels[img_idx] != votes[img_idx, f_idx] else 0, range(num_imgs)))\n",
    "            classification_errors[f] = error\n",
    "\n",
    "        # get best feature, i.e. with smallest error\n",
    "        min_error_idx = np.argmin(classification_errors)\n",
    "        best_error = classification_errors[min_error_idx]\n",
    "        best_feature_idx = feature_indexes[min_error_idx]\n",
    "\n",
    "        # set feature weight\n",
    "        best_feature = features[best_feature_idx]\n",
    "        feature_weight = 0.5 * np.log((1 - best_error) / best_error)\n",
    "        best_feature.weight = feature_weight\n",
    "\n",
    "        classifiers.append(best_feature)\n",
    "\n",
    "        # update image weights\n",
    "        weights = np.array(list(map(lambda img_idx: weights[img_idx] * np.sqrt((1-best_error)/best_error) if labels[img_idx] != votes[img_idx, best_feature_idx] else weights[img_idx] * np.sqrt(best_error/(1-best_error)), range(num_imgs))))\n",
    "\n",
    "        # remove feature (a feature can't be selected twice)\n",
    "        feature_indexes.remove(best_feature_idx)\n",
    "\n",
    "    print('\\tTime needed for Selecting Classifiers:', time.time()-t0,'\\n')\n",
    "\n",
    "\n",
    "    return classifiers\n",
    "\n",
    "def _get_feature_vote(feature, image):\n",
    "    return feature.get_vote(image)\n",
    "\n",
    "def _create_features(img_height, img_width, min_feature_width, max_feature_width, min_feature_height, max_feature_height):\n",
    "    print('Creating Haar-like features..')\n",
    "    t0 = time.time()\n",
    "    features = []\n",
    "    for feature in FeatureTypes:\n",
    "        # FeatureTypes are just tuples\n",
    "        feature_start_width = max(min_feature_width, feature[0])\n",
    "        for feature_width in range(feature_start_width, max_feature_width, feature[0]):\n",
    "            feature_start_height = max(min_feature_height, feature[1])\n",
    "            for feature_height in range(feature_start_height, max_feature_height, feature[1]):\n",
    "                \n",
    "                for x in range(feature_start_width, max_feature_width):\n",
    "                    for y in range(feature_start_height, max_feature_height):                        \n",
    "                        f = HaarLikeFeature(feature_type=feature,\n",
    "                                            position=(x, y),\n",
    "                                            width=feature_width,\n",
    "                                            height=feature_height,\n",
    "                                            polarity=1, threshold=0)\n",
    "                        features.append(f)\n",
    "            \n",
    "    print('\\t' + str(len(features)) + ' features created.')\n",
    "    print('\\tTime needed for calculating Harr-like features:', time.time()-t0)\n",
    "    return features"
   ]
  },
  {
   "cell_type": "markdown",
   "metadata": {},
   "source": [
    "**Exercise 5:** Use the learn method  to learn a list of two classifiers with the train data\n",
    "\n",
    "With the `learn` function you can build a list of classifiers that detect whether an image contains a face or not.\n",
    "\n",
    "Use the following hyperparameters of the features and `num_classifiers`."
   ]
  },
  {
   "cell_type": "code",
   "execution_count": 40,
   "metadata": {},
   "outputs": [],
   "source": [
    "num_classifiers = 2\n",
    "min_feature_height = 8\n",
    "max_feature_height = 10\n",
    "min_feature_width = 8\n",
    "max_feature_width = 10"
   ]
  },
  {
   "cell_type": "code",
   "execution_count": 43,
   "metadata": {},
   "outputs": [
    {
     "name": "stdout",
     "output_type": "stream",
     "text": [
      "Creating Haar-like features..\n",
      "\t36 features created.\n",
      "\tTime needed for calculating Harr-like features: 0.0002682209014892578\n",
      "Calculating scores for images..\n",
      "\tTime needed for calculating scores: 20.42276406288147\n",
      "Selecting classifiers..\n",
      "\tTime needed for Selecting Classifiers: 0.7406911849975586 \n",
      "\n",
      "CPU times: user 16.6 s, sys: 2.57 s, total: 19.2 s\n",
      "Wall time: 21.2 s\n"
     ]
    }
   ],
   "source": [
    "%%time \n",
    "classifiers = learn(ii_pos_training,\n",
    "                    ii_neg_training,\n",
    "                    num_classifiers=num_classifiers,\n",
    "                    min_feature_height=min_feature_height,\n",
    "                    max_feature_height=max_feature_height,\n",
    "                    min_feature_width=min_feature_width,\n",
    "                    max_feature_width=max_feature_width)"
   ]
  },
  {
   "cell_type": "markdown",
   "metadata": {},
   "source": [
    "**Exercise 6:** Make a function for voting with different classifiers\n",
    "\n",
    "Build two functions `ensemble_vote` and `ensemble_vote_all`.\n",
    "\n",
    "- `ensemble_vote(int_img, classifiers)` has to return a 1 if the majority of the votes of the classifiers is positive and a zero otherwise\n",
    "\n",
    "- `ensemble_vote_all(int_imgs, classifiers)` has to loop over the list `int_imgs` and compute the `ensemble_vote` for each image in the list. It has to return a list containing all the votes for all the images in  `int_imgs`.\n",
    "\n",
    "Use the functions to compute the train and test acurracies for faces and non faces.\n",
    "\n",
    "Print the results in the following format:\n",
    "```\n",
    "train results:\n",
    "Correctly identified Faces: 2129/2429  (87.64923836969946%)\n",
    "Correctly identified non-Faces: 4276/8548  (50.02339728591484%)\n",
    "\n",
    "test results:\n",
    "Correctly identified Faces: 300/472  (63.559322033898304%)\n",
    "Correctly identified non-Faces: 74/128  (57.8125%)\n",
    "```\n",
    "\n",
    "It is not required to get this exact results but print the information in this format. It facilitates understanding the results."
   ]
  },
  {
   "cell_type": "code",
   "execution_count": 44,
   "metadata": {},
   "outputs": [],
   "source": [
    "def ensemble_vote(int_img, classifiers):\n",
    "    balance = 0\n",
    "    for c in classifiers:\n",
    "        vote = c.get_vote(int_img)\n",
    "        balance += 1 if vote >= 0 else -1\n",
    "    return 1 if vote >= 0 else 0"
   ]
  },
  {
   "cell_type": "code",
   "execution_count": 45,
   "metadata": {},
   "outputs": [],
   "source": [
    "def ensemble_vote_all(int_imgs, classifiers):\n",
    "    votes = []\n",
    "    for img in int_imgs:\n",
    "        votes.append(ensemble_vote(img, classifiers))\n",
    "    return votes"
   ]
  },
  {
   "cell_type": "code",
   "execution_count": 46,
   "metadata": {},
   "outputs": [
    {
     "name": "stdout",
     "output_type": "stream",
     "text": [
      "train results:\n",
      "Correctly identified Faces: 1625/2429 (66.9000%)\n",
      "Correctly identified non-Faces: 4242/8530 (49.7304%)\n",
      "\n",
      "test results:\n",
      "Correctly identified Faces: 298/472 (63.1356%)\n",
      "Correctly identified non-Faces: 58/128 (45.3125%)\n"
     ]
    }
   ],
   "source": [
    "def print_results():\n",
    "    print('train results:')\n",
    "\n",
    "    pos_training_results = ensemble_vote_all(ii_pos_training, classifiers)\n",
    "    percent = 100 * sum(pos_training_results) / len(ii_pos_training)\n",
    "    print(f'Correctly identified Faces: {sum(pos_training_results)}/{len(ii_pos_training)} ({percent:.4f}%)')\n",
    "\n",
    "    neg_training_results = ensemble_vote_all(ii_neg_training, classifiers)\n",
    "    percent = 100 * sum(neg_training_results) / len(ii_neg_training)\n",
    "    print(f'Correctly identified non-Faces: {sum(neg_training_results)}/{len(ii_neg_training)} ({percent:.4f}%)')\n",
    "\n",
    "    print('\\ntest results:')\n",
    "\n",
    "    pos_testing_results = ensemble_vote_all(ii_pos_testing, classifiers)\n",
    "    percent = 100 * sum(pos_testing_results) / len(ii_pos_testing)\n",
    "    print(f'Correctly identified Faces: {sum(pos_testing_results)}/{len(ii_pos_testing)} ({percent:.4f}%)')\n",
    "\n",
    "    neg_testing_results = ensemble_vote_all(ii_neg_testing, classifiers)\n",
    "    percent = 100 * sum(neg_testing_results) / len(ii_neg_testing)\n",
    "    print(f'Correctly identified non-Faces: {sum(neg_testing_results)}/{len(ii_neg_testing)} ({percent:.4f}%)')\n",
    "    \n",
    "print_results()"
   ]
  },
  {
   "cell_type": "markdown",
   "metadata": {},
   "source": [
    "**Exercise 7:** Make another test with 20 classifiers instead of 2.\n",
    "\n",
    "Inspect the classification results if you use adaboost with 20 classifiers. Use the same hyperameters for the features.\n",
    "Print the results as in the previous exercise.\n",
    "\n",
    "- Discuss if the classification results improved in the train data.\n",
    "\n"
   ]
  },
  {
   "cell_type": "code",
   "execution_count": 47,
   "metadata": {},
   "outputs": [],
   "source": [
    "num_classifiers = 20\n",
    "min_feature_height = 8\n",
    "max_feature_height = 10\n",
    "min_feature_width = 8\n",
    "max_feature_width = 10"
   ]
  },
  {
   "cell_type": "code",
   "execution_count": 48,
   "metadata": {},
   "outputs": [
    {
     "name": "stdout",
     "output_type": "stream",
     "text": [
      "Creating Haar-like features..\n",
      "\t36 features created.\n",
      "\tTime needed for calculating Harr-like features: 0.0002288818359375\n",
      "Calculating scores for images..\n",
      "\tTime needed for calculating scores: 20.453936100006104\n",
      "Selecting classifiers..\n",
      "\tTime needed for Selecting Classifiers: 5.584214210510254 \n",
      "\n",
      "CPU times: user 21.6 s, sys: 2.68 s, total: 24.2 s\n",
      "Wall time: 26 s\n"
     ]
    }
   ],
   "source": [
    "%%time\n",
    "classifiers = learn(ii_pos_training,\n",
    "                    ii_neg_training,\n",
    "                    num_classifiers=num_classifiers,\n",
    "                    min_feature_height=min_feature_height,\n",
    "                    max_feature_height=max_feature_height,\n",
    "                    min_feature_width=min_feature_width,\n",
    "                    max_feature_width=max_feature_width)"
   ]
  },
  {
   "cell_type": "code",
   "execution_count": 49,
   "metadata": {},
   "outputs": [
    {
     "name": "stdout",
     "output_type": "stream",
     "text": [
      "train results:\n",
      "Correctly identified Faces: 777/2429 (31.9885%)\n",
      "Correctly identified non-Faces: 4068/8530 (47.6905%)\n",
      "\n",
      "test results:\n",
      "Correctly identified Faces: 161/472 (34.1102%)\n",
      "Correctly identified non-Faces: 67/128 (52.3438%)\n"
     ]
    }
   ],
   "source": [
    "print_results()"
   ]
  },
  {
   "cell_type": "markdown",
   "metadata": {},
   "source": [
    "**Exercise 8** Change the voting functions so that you can set a threshold for deciding a prediction.\n",
    "\n",
    "The threshold value indicates the minimum score for assigning a \"positive\" label (detect a face).\n",
    "\n",
    "Create the following functions\n",
    "\n",
    "- `ensemble_vote_t`: returns the final decision of a list of classifiers for a given threshold.\n",
    "- `ensemble_vote_all_t`: Iterates over a list of integral images and returns the  final decision of a list of classifiers for each of the images (for a given threshold).\n",
    "\n",
    "\n",
    "\n",
    "Using the list of 20 classifiers compute the following:\n",
    "\n",
    "- a) number of correct faces over all faces (in the train data)\n",
    "- b) number of correct non faces over all non faces (in the train data)\n",
    "- c) number of correct faces over all faces (in the test data)\n",
    "- d) number of correct non faces over all non faces (in the test data)\n",
    "\n",
    "\n",
    "\n",
    "\n",
    "The quantities have to be computed for each of the following thresholds:\n",
    "\n",
    "```\n",
    "thresholds = np.array([x for x in range(-5,5,1)])/10.\n",
    "```\n",
    "\n",
    "- Make a bar plot for a) b) c) and d). In the x axis write the threshold value. \n",
    "\n",
    "- Discuss what happens when you increase the threshold value."
   ]
  },
  {
   "cell_type": "code",
   "execution_count": 50,
   "metadata": {},
   "outputs": [],
   "source": [
    "thresholds = np.array([x for x in range(-5,5,1)])/10."
   ]
  },
  {
   "cell_type": "code",
   "execution_count": 51,
   "metadata": {},
   "outputs": [],
   "source": [
    "def ensemble_score(int_img, classifiers):\n",
    "    return sum([c.get_vote(int_img) for c in classifiers])\n",
    "\n",
    "def ensemble_vote_t(int_img, classifiers, t):\n",
    "    return int(ensemble_score(int_img, classifiers) > t)\n",
    "\n",
    "def ensemble_vote_all_t(int_imgs, classifiers, t=-0.1):\n",
    "    votes = []\n",
    "    for img in int_imgs:\n",
    "        votes.append(ensemble_vote_t(img, classifiers, t))\n",
    "    return votes"
   ]
  },
  {
   "cell_type": "code",
   "execution_count": 52,
   "metadata": {},
   "outputs": [],
   "source": [
    "correct_faces_train_t = []\n",
    "correct_non_faces_train_t = []\n",
    "correct_faces_test_t = []\n",
    "correct_non_faces_test_t = []\n",
    "\n",
    "for thresh in thresholds:\n",
    "    pos_training_results = ensemble_vote_all_t(ii_pos_training, classifiers, thresh)\n",
    "    neg_training_results = ensemble_vote_all_t(ii_neg_training, classifiers, thresh)\n",
    "    pos_testing_results = ensemble_vote_all_t(ii_pos_testing, classifiers, thresh)\n",
    "    neg_testing_results = ensemble_vote_all_t(ii_neg_testing, classifiers, thresh)\n",
    "    \n",
    "    correct_faces_train_t.append(sum(pos_training_results) / len(ii_pos_training))\n",
    "    correct_non_faces_train_t.append(sum(neg_training_results) / len(ii_neg_training))\n",
    "    correct_faces_test_t.append(sum(pos_testing_results) / len(ii_pos_training))\n",
    "    correct_non_faces_test_t.append(sum(neg_testing_results) / len(ii_neg_testing))"
   ]
  },
  {
   "cell_type": "code",
   "execution_count": 54,
   "metadata": {},
   "outputs": [
    {
     "data": {
      "image/png": "[encoded data removed]",
      "text/plain": [
       "<Figure size 576x288 with 1 Axes>"
      ]
     },
     "metadata": {
      "needs_background": "light"
     },
     "output_type": "display_data"
    }
   ],
   "source": [
    "plt.figure(figsize=(8, 4))\n",
    "plt.title('20-Classifiers Accuracy for different thresholds')\n",
    "\n",
    "plt.bar(thresholds - 0.030, correct_faces_train_t, width=0.02,\n",
    "        color='darkred', align='center', label='Train Faces')\n",
    "\n",
    "plt.bar(thresholds - 0.010, correct_non_faces_train_t, width=0.02,\n",
    "        color='orange', align='center', label='Train Non-Faces')\n",
    "\n",
    "plt.bar(thresholds + 0.010, correct_faces_test_t, width=0.02,\n",
    "        color='darkblue', align='center', label='Test Faces')\n",
    "\n",
    "plt.bar(thresholds + 0.030, correct_non_faces_test_t,\n",
    "        width=0.02, color='teal', align='center', label='Test Non-Faces')\n",
    "\n",
    "plt.xlabel('Threshold')\n",
    "plt.ylabel('Accuracy')\n",
    "plt.legend()\n",
    "plt.show()"
   ]
  }
 ],
 "metadata": {
  "kernelspec": {
   "display_name": "mai-cv",
   "language": "python",
   "name": "mai-cv"
  },
  "language_info": {
   "codemirror_mode": {
    "name": "ipython",
    "version": 3
   },
   "file_extension": ".py",
   "mimetype": "text/x-python",
   "name": "python",
   "nbconvert_exporter": "python",
   "pygments_lexer": "ipython3",
   "version": "3.7.3"
  }
 },
 "nbformat": 4,
 "nbformat_minor": 1
}
